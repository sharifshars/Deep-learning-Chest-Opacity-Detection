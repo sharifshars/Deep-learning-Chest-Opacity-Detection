{
  "cells": [
    {
      "cell_type": "markdown",
      "metadata": {
        "id": "view-in-github",
        "colab_type": "text"
      },
      "source": [
        "<a href=\"https://colab.research.google.com/github/sharifshars/Deep-learning-Chest-Opacity-Detection/blob/main/Chest_Opacities_Detection_Model.ipynb\" target=\"_parent\"><img src=\"https://colab.research.google.com/assets/colab-badge.svg\" alt=\"Open In Colab\"/></a>"
      ]
    },
    {
      "cell_type": "code",
      "execution_count": null,
      "metadata": {
        "id": "aTUbP0U8Zuco"
      },
      "outputs": [],
      "source": []
    },
    {
      "cell_type": "code",
      "execution_count": 3,
      "metadata": {
        "colab": {
          "base_uri": "https://localhost:8080/"
        },
        "id": "CpEi4vwG56rS",
        "outputId": "c53ef1a2-e214-4cd2-a7f9-4259586057d8"
      },
      "outputs": [
        {
          "output_type": "stream",
          "name": "stdout",
          "text": [
            "Mounted at /content/drive\n"
          ]
        }
      ],
      "source": [
        "from google.colab import drive\n",
        "drive.mount('/content/drive')"
      ]
    },
    {
      "cell_type": "code",
      "execution_count": 19,
      "metadata": {
        "id": "EsgWY4Jy7FgL"
      },
      "outputs": [],
      "source": [
        "from tensorflow import keras\n",
        "from keras import layers\n",
        "import os\n",
        "import numpy as np\n",
        "from keras.applications.vgg19 import preprocess_input\n"
      ]
    },
    {
      "cell_type": "code",
      "execution_count": 5,
      "metadata": {
        "id": "xDXLOfrJ7bP_"
      },
      "outputs": [],
      "source": [
        "# Path to the images\n",
        "path_to_images =\"/content/drive/MyDrive/Dataset/dataset1/known_images\""
      ]
    },
    {
      "cell_type": "code",
      "execution_count": 6,
      "metadata": {
        "colab": {
          "base_uri": "https://localhost:8080/"
        },
        "id": "GQnotKBk7ra0",
        "outputId": "55ccf541-b677-4d2e-e70e-f813f8ed30a3"
      },
      "outputs": [
        {
          "output_type": "stream",
          "name": "stdout",
          "text": [
            "Found 715 files belonging to 2 classes.\n",
            "Using 572 files for training.\n",
            "Using 143 files for validation.\n"
          ]
        }
      ],
      "source": [
        "train_dataset, val_dataset = keras.utils.image_dataset_from_directory(\n",
        "    path_to_images,\n",
        "    class_names= [\"Normal\",\"Sick\"],\n",
        "    batch_size =32,\n",
        "    image_size =(395, 488),\n",
        "    validation_split =0.2,\n",
        "    subset = \"both\",\n",
        "    seed=200\n",
        ")"
      ]
    },
    {
      "cell_type": "code",
      "execution_count": 7,
      "metadata": {
        "id": "sOXQEdPI8Qo6",
        "colab": {
          "base_uri": "https://localhost:8080/"
        },
        "outputId": "63502e16-b160-4215-db4b-f411c3616096"
      },
      "outputs": [
        {
          "output_type": "stream",
          "name": "stdout",
          "text": [
            "Downloading data from https://storage.googleapis.com/tensorflow/keras-applications/vgg19/vgg19_weights_tf_dim_ordering_tf_kernels_notop.h5\n",
            "80134624/80134624 [==============================] - 0s 0us/step\n"
          ]
        }
      ],
      "source": [
        "#instantiating and freesing the VGG19 convolutional base\n",
        "conv_base = keras.applications.vgg19.VGG19(\n",
        "    weights=\"imagenet\",\n",
        "    include_top= False,\n",
        ")\n",
        "\n",
        "# conv_base.trainable = False"
      ]
    },
    {
      "cell_type": "code",
      "execution_count": 8,
      "metadata": {
        "id": "7KEoQSbUHS-S"
      },
      "outputs": [],
      "source": [
        "def get_features_and_labels(dataset):\n",
        "  all_features = []\n",
        "  all_labels = []\n",
        "\n",
        "  for images, labels in dataset:\n",
        "    preprocessed_images = keras.applications.vgg19.preprocess_input(images)\n",
        "    features = conv_base.predict(preprocessed_images)\n",
        "\n",
        "    all_features.append(features)\n",
        "    all_labels.append(labels)\n",
        "\n",
        "  return np.concatenate(all_features), np.concatenate(all_labels)"
      ]
    },
    {
      "cell_type": "code",
      "execution_count": 9,
      "metadata": {
        "colab": {
          "base_uri": "https://localhost:8080/"
        },
        "id": "yznf5_slIUki",
        "outputId": "de0b2b7e-27b3-4d56-b846-696aa11e47a4"
      },
      "outputs": [
        {
          "output_type": "stream",
          "name": "stdout",
          "text": [
            "1/1 [==============================] - 59s 59s/step\n",
            "1/1 [==============================] - 59s 59s/step\n",
            "1/1 [==============================] - 58s 58s/step\n",
            "1/1 [==============================] - 61s 61s/step\n",
            "1/1 [==============================] - 61s 61s/step\n",
            "1/1 [==============================] - 59s 59s/step\n",
            "1/1 [==============================] - 60s 60s/step\n",
            "1/1 [==============================] - 59s 59s/step\n",
            "1/1 [==============================] - 59s 59s/step\n",
            "1/1 [==============================] - 59s 59s/step\n",
            "1/1 [==============================] - 59s 59s/step\n",
            "1/1 [==============================] - 61s 61s/step\n",
            "1/1 [==============================] - 60s 60s/step\n",
            "1/1 [==============================] - 60s 60s/step\n",
            "1/1 [==============================] - 60s 60s/step\n",
            "1/1 [==============================] - 59s 59s/step\n",
            "1/1 [==============================] - 59s 59s/step\n",
            "1/1 [==============================] - 52s 52s/step\n",
            "1/1 [==============================] - 60s 60s/step\n",
            "1/1 [==============================] - 63s 63s/step\n",
            "1/1 [==============================] - 60s 60s/step\n",
            "1/1 [==============================] - 60s 60s/step\n",
            "1/1 [==============================] - 28s 28s/step\n"
          ]
        }
      ],
      "source": [
        "train_features, train_labels = get_features_and_labels(train_dataset)\n",
        "val_features, val_labels = get_features_and_labels(val_dataset)"
      ]
    },
    {
      "cell_type": "code",
      "execution_count": 10,
      "metadata": {
        "colab": {
          "base_uri": "https://localhost:8080/"
        },
        "id": "q0JT2egm80lM",
        "outputId": "ad8cd6eb-da41-4cce-8286-f90a418a329f"
      },
      "outputs": [
        {
          "output_type": "execute_result",
          "data": {
            "text/plain": [
              "(572, 12, 15, 512)"
            ]
          },
          "metadata": {},
          "execution_count": 10
        }
      ],
      "source": [
        "train_features.shape"
      ]
    },
    {
      "cell_type": "code",
      "execution_count": 11,
      "metadata": {
        "id": "7-FVuNYT9YdY"
      },
      "outputs": [],
      "source": [
        "inputs = keras.Input(shape=(12,15, 512))\n",
        "\n",
        "x = layers.Flatten()(inputs)\n",
        "x = layers.Dense(256)(x)\n",
        "x = layers.Dropout(0.5)(x)\n",
        "\n",
        "outputs = layers.Dense(1, activation=\"sigmoid\")(x)\n",
        "model = keras.Model(inputs, outputs)"
      ]
    },
    {
      "cell_type": "code",
      "execution_count": 12,
      "metadata": {
        "id": "2zjwNfdJ-ZZ8"
      },
      "outputs": [],
      "source": [
        "model.compile(\n",
        "    loss =\"binary_crossentropy\",\n",
        "    optimizer=\"rmsprop\",\n",
        "    metrics=[\"accuracy\"]\n",
        ")"
      ]
    },
    {
      "cell_type": "code",
      "execution_count": 13,
      "metadata": {
        "id": "pigGP--P_NJ-"
      },
      "outputs": [],
      "source": [
        "callbacks=[\n",
        "    keras.callbacks.ModelCheckpoint(\n",
        "        filepath=\"chest=opacities-detection-with-with_Vgg19.keras\",\n",
        "        save_best_only=True,\n",
        "        monitor =\"val_loss\"\n",
        "    )\n",
        "]"
      ]
    },
    {
      "cell_type": "code",
      "execution_count": 14,
      "metadata": {
        "colab": {
          "base_uri": "https://localhost:8080/"
        },
        "id": "R95icX2w_3Fr",
        "outputId": "ca4a828d-b72c-4419-e608-8cc091d68ff3"
      },
      "outputs": [
        {
          "output_type": "stream",
          "name": "stdout",
          "text": [
            "Epoch 1/30\n",
            "18/18 [==============================] - 4s 217ms/step - loss: 46.2020 - accuracy: 0.8392 - val_loss: 29.9331 - val_accuracy: 0.8531\n",
            "Epoch 2/30\n",
            "18/18 [==============================] - 4s 237ms/step - loss: 3.2452 - accuracy: 0.9720 - val_loss: 2.6558 - val_accuracy: 0.9720\n",
            "Epoch 3/30\n",
            "18/18 [==============================] - 4s 236ms/step - loss: 0.0581 - accuracy: 0.9965 - val_loss: 1.2594 - val_accuracy: 0.9720\n",
            "Epoch 4/30\n",
            "18/18 [==============================] - 4s 205ms/step - loss: 7.0969e-08 - accuracy: 1.0000 - val_loss: 1.2593 - val_accuracy: 0.9720\n",
            "Epoch 5/30\n",
            "18/18 [==============================] - 3s 193ms/step - loss: 22.8458 - accuracy: 0.9318 - val_loss: 1.6058 - val_accuracy: 0.9650\n",
            "Epoch 6/30\n",
            "18/18 [==============================] - 5s 255ms/step - loss: 0.5640 - accuracy: 0.9930 - val_loss: 3.3306 - val_accuracy: 0.9790\n",
            "Epoch 7/30\n",
            "18/18 [==============================] - 4s 195ms/step - loss: 8.0518 - accuracy: 0.9528 - val_loss: 4.0834 - val_accuracy: 0.9650\n",
            "Epoch 8/30\n",
            "18/18 [==============================] - 3s 193ms/step - loss: 0.7091 - accuracy: 0.9878 - val_loss: 2.3013 - val_accuracy: 0.9860\n",
            "Epoch 9/30\n",
            "18/18 [==============================] - 4s 253ms/step - loss: 0.0000e+00 - accuracy: 1.0000 - val_loss: 2.3013 - val_accuracy: 0.9860\n",
            "Epoch 10/30\n",
            "18/18 [==============================] - 3s 193ms/step - loss: 2.8969e-25 - accuracy: 1.0000 - val_loss: 2.3013 - val_accuracy: 0.9860\n",
            "Epoch 11/30\n",
            "18/18 [==============================] - 3s 192ms/step - loss: 5.7217 - accuracy: 0.9703 - val_loss: 2.5476 - val_accuracy: 0.9860\n",
            "Epoch 12/30\n",
            "18/18 [==============================] - 4s 212ms/step - loss: 0.0381 - accuracy: 0.9965 - val_loss: 1.3739 - val_accuracy: 0.9860\n",
            "Epoch 13/30\n",
            "18/18 [==============================] - 4s 228ms/step - loss: 3.3372e-29 - accuracy: 1.0000 - val_loss: 1.3739 - val_accuracy: 0.9860\n",
            "Epoch 14/30\n",
            "18/18 [==============================] - 3s 195ms/step - loss: 0.6304 - accuracy: 0.9930 - val_loss: 8.3947 - val_accuracy: 0.9650\n",
            "Epoch 15/30\n",
            "18/18 [==============================] - 3s 194ms/step - loss: 0.2924 - accuracy: 0.9913 - val_loss: 2.7963 - val_accuracy: 0.9790\n",
            "Epoch 16/30\n",
            "18/18 [==============================] - 5s 257ms/step - loss: 0.0000e+00 - accuracy: 1.0000 - val_loss: 2.7963 - val_accuracy: 0.9790\n",
            "Epoch 17/30\n",
            "18/18 [==============================] - 4s 196ms/step - loss: 4.4764e-16 - accuracy: 1.0000 - val_loss: 2.7963 - val_accuracy: 0.9790\n",
            "Epoch 18/30\n",
            "18/18 [==============================] - 4s 196ms/step - loss: 4.5003e-35 - accuracy: 1.0000 - val_loss: 2.7963 - val_accuracy: 0.9790\n",
            "Epoch 19/30\n",
            "18/18 [==============================] - 4s 252ms/step - loss: 0.0000e+00 - accuracy: 1.0000 - val_loss: 2.7963 - val_accuracy: 0.9790\n",
            "Epoch 20/30\n",
            "18/18 [==============================] - 4s 194ms/step - loss: 1.1897e-16 - accuracy: 1.0000 - val_loss: 2.7963 - val_accuracy: 0.9790\n",
            "Epoch 21/30\n",
            "18/18 [==============================] - 4s 196ms/step - loss: 0.0000e+00 - accuracy: 1.0000 - val_loss: 2.7963 - val_accuracy: 0.9790\n",
            "Epoch 22/30\n",
            "18/18 [==============================] - 4s 214ms/step - loss: 1.3020e-11 - accuracy: 1.0000 - val_loss: 2.7963 - val_accuracy: 0.9790\n",
            "Epoch 23/30\n",
            "18/18 [==============================] - 4s 238ms/step - loss: 0.0000e+00 - accuracy: 1.0000 - val_loss: 2.7963 - val_accuracy: 0.9790\n",
            "Epoch 24/30\n",
            "18/18 [==============================] - 5s 257ms/step - loss: 0.0000e+00 - accuracy: 1.0000 - val_loss: 2.7963 - val_accuracy: 0.9790\n",
            "Epoch 25/30\n",
            "18/18 [==============================] - 4s 203ms/step - loss: 0.0000e+00 - accuracy: 1.0000 - val_loss: 2.7963 - val_accuracy: 0.9790\n",
            "Epoch 26/30\n",
            "18/18 [==============================] - 4s 244ms/step - loss: 0.0000e+00 - accuracy: 1.0000 - val_loss: 2.7963 - val_accuracy: 0.9790\n",
            "Epoch 27/30\n",
            "18/18 [==============================] - 4s 199ms/step - loss: 0.0000e+00 - accuracy: 1.0000 - val_loss: 2.7963 - val_accuracy: 0.9790\n",
            "Epoch 28/30\n",
            "18/18 [==============================] - 4s 199ms/step - loss: 2.8309e-29 - accuracy: 1.0000 - val_loss: 2.7963 - val_accuracy: 0.9790\n",
            "Epoch 29/30\n",
            "18/18 [==============================] - 5s 261ms/step - loss: 0.0000e+00 - accuracy: 1.0000 - val_loss: 2.7963 - val_accuracy: 0.9790\n",
            "Epoch 30/30\n",
            "18/18 [==============================] - 4s 202ms/step - loss: 0.0000e+00 - accuracy: 1.0000 - val_loss: 2.7963 - val_accuracy: 0.9790\n"
          ]
        }
      ],
      "source": [
        "history = model.fit(\n",
        "    train_features, train_labels,\n",
        "    epochs=30,\n",
        "    validation_data=(val_features, val_labels),\n",
        "    callbacks=callbacks\n",
        ")"
      ]
    },
    {
      "cell_type": "code",
      "execution_count": 15,
      "metadata": {
        "id": "C7UXxzXmAQ1m",
        "colab": {
          "base_uri": "https://localhost:8080/",
          "height": 887
        },
        "outputId": "27a24a40-4969-49f0-ed3d-14aef28a4546"
      },
      "outputs": [
        {
          "output_type": "display_data",
          "data": {
            "text/plain": [
              "<Figure size 640x480 with 1 Axes>"
            ],
            "image/png": "[encoded data removed]"
          },
          "metadata": {}
        },
        {
          "output_type": "display_data",
          "data": {
            "text/plain": [
              "<Figure size 640x480 with 1 Axes>"
            ],
            "image/png": "[encoded data removed]"
          },
          "metadata": {}
        }
      ],
      "source": [
        "import matplotlib.pyplot as plt\n",
        "acc = history.history[\"accuracy\"]\n",
        "val_acc = history.history[\"val_accuracy\"]\n",
        "loss=history.history[\"loss\"]\n",
        "val_loss =history.history[\"val_loss\"]\n",
        "epochs = range(1,len(acc)+1)\n",
        "\n",
        "#Accuracy plots\n",
        "plt.plot(epochs, acc,\"bo\", label = \"Training accuracy\")\n",
        "plt.plot(epochs,val_acc, \"b\", label =\"validation accuracy\")\n",
        "plt.title(\"Training and validation accuracy\")\n",
        "plt.legend()\n",
        "plt.figure()\n",
        "\n",
        "#loss plot\n",
        "plt.plot(epochs, loss, \"bo\", label=\"Training loss\")\n",
        "plt.plot(epochs, val_loss, \"b\", label=\"Validation loss\")\n",
        "plt.title(\"Training and validation loss\")\n",
        "plt.legend()\n",
        "plt.show()"
      ]
    },
    {
      "cell_type": "code",
      "execution_count": 16,
      "metadata": {
        "colab": {
          "base_uri": "https://localhost:8080/"
        },
        "id": "0urGu7CmZoL0",
        "outputId": "feb2eaba-5303-4100-faad-df6df1be1589"
      },
      "outputs": [
        {
          "output_type": "stream",
          "name": "stdout",
          "text": [
            "Model: \"model\"\n",
            "_________________________________________________________________\n",
            " Layer (type)                Output Shape              Param #   \n",
            "=================================================================\n",
            " input_2 (InputLayer)        [(None, 12, 15, 512)]     0         \n",
            "                                                                 \n",
            " flatten (Flatten)           (None, 92160)             0         \n",
            "                                                                 \n",
            " dense (Dense)               (None, 256)               23593216  \n",
            "                                                                 \n",
            " dropout (Dropout)           (None, 256)               0         \n",
            "                                                                 \n",
            " dense_1 (Dense)             (None, 1)                 257       \n",
            "                                                                 \n",
            "=================================================================\n",
            "Total params: 23,593,473\n",
            "Trainable params: 23,593,473\n",
            "Non-trainable params: 0\n",
            "_________________________________________________________________\n"
          ]
        }
      ],
      "source": [
        "model = keras.models.load_model(\"chest=opacities-detection-with-with_Vgg19.keras\")\n",
        "model.summary()\n"
      ]
    },
    {
      "cell_type": "code",
      "execution_count": 17,
      "metadata": {
        "id": "CLLAcnSlc8D7"
      },
      "outputs": [],
      "source": [
        "# Define the directory containing the test images\n",
        "test_dir = \"/content/drive/MyDrive/Dataset/dataset1/unknown_images\"\n",
        "\n",
        "# Get the list of test image file paths\n",
        "test_image_paths = [os.path.join(test_dir, f) for f in os.listdir(test_dir)]"
      ]
    },
    {
      "cell_type": "code",
      "execution_count": 18,
      "metadata": {
        "colab": {
          "base_uri": "https://localhost:8080/",
          "height": 641
        },
        "id": "mqJ603c0EiNA",
        "outputId": "06337776-e892-4927-a0ee-38f63df185ec"
      },
      "outputs": [
        {
          "output_type": "error",
          "ename": "ValueError",
          "evalue": "ignored",
          "traceback": [
            "\u001b[0;31m---------------------------------------------------------------------------\u001b[0m",
            "\u001b[0;31mValueError\u001b[0m                                Traceback (most recent call last)",
            "\u001b[0;32m<ipython-input-18-9fe541af7d01>\u001b[0m in \u001b[0;36m<cell line: 5>\u001b[0;34m()\u001b[0m\n\u001b[1;32m     17\u001b[0m \u001b[0;34m\u001b[0m\u001b[0m\n\u001b[1;32m     18\u001b[0m     \u001b[0;31m# Make predictions on the image\u001b[0m\u001b[0;34m\u001b[0m\u001b[0;34m\u001b[0m\u001b[0m\n\u001b[0;32m---> 19\u001b[0;31m     \u001b[0mpredictions\u001b[0m \u001b[0;34m=\u001b[0m \u001b[0mmodel\u001b[0m\u001b[0;34m.\u001b[0m\u001b[0mpredict\u001b[0m\u001b[0;34m(\u001b[0m\u001b[0mimg_array\u001b[0m\u001b[0;34m)\u001b[0m\u001b[0;34m\u001b[0m\u001b[0;34m\u001b[0m\u001b[0m\n\u001b[0m\u001b[1;32m     20\u001b[0m \u001b[0;34m\u001b[0m\u001b[0m\n\u001b[1;32m     21\u001b[0m     \u001b[0;31m# Convert the predictions to a binary label (0 for Normal, 1 for Sick)\u001b[0m\u001b[0;34m\u001b[0m\u001b[0;34m\u001b[0m\u001b[0m\n",
            "\u001b[0;32m/usr/local/lib/python3.10/dist-packages/keras/utils/traceback_utils.py\u001b[0m in \u001b[0;36merror_handler\u001b[0;34m(*args, **kwargs)\u001b[0m\n\u001b[1;32m     68\u001b[0m             \u001b[0;31m# To get the full stack trace, call:\u001b[0m\u001b[0;34m\u001b[0m\u001b[0;34m\u001b[0m\u001b[0m\n\u001b[1;32m     69\u001b[0m             \u001b[0;31m# `tf.debugging.disable_traceback_filtering()`\u001b[0m\u001b[0;34m\u001b[0m\u001b[0;34m\u001b[0m\u001b[0m\n\u001b[0;32m---> 70\u001b[0;31m             \u001b[0;32mraise\u001b[0m \u001b[0me\u001b[0m\u001b[0;34m.\u001b[0m\u001b[0mwith_traceback\u001b[0m\u001b[0;34m(\u001b[0m\u001b[0mfiltered_tb\u001b[0m\u001b[0;34m)\u001b[0m \u001b[0;32mfrom\u001b[0m \u001b[0;32mNone\u001b[0m\u001b[0;34m\u001b[0m\u001b[0;34m\u001b[0m\u001b[0m\n\u001b[0m\u001b[1;32m     71\u001b[0m         \u001b[0;32mfinally\u001b[0m\u001b[0;34m:\u001b[0m\u001b[0;34m\u001b[0m\u001b[0;34m\u001b[0m\u001b[0m\n\u001b[1;32m     72\u001b[0m             \u001b[0;32mdel\u001b[0m \u001b[0mfiltered_tb\u001b[0m\u001b[0;34m\u001b[0m\u001b[0;34m\u001b[0m\u001b[0m\n",
            "\u001b[0;32m/usr/local/lib/python3.10/dist-packages/keras/engine/training.py\u001b[0m in \u001b[0;36mtf__predict_function\u001b[0;34m(iterator)\u001b[0m\n\u001b[1;32m     13\u001b[0m                 \u001b[0;32mtry\u001b[0m\u001b[0;34m:\u001b[0m\u001b[0;34m\u001b[0m\u001b[0;34m\u001b[0m\u001b[0m\n\u001b[1;32m     14\u001b[0m                     \u001b[0mdo_return\u001b[0m \u001b[0;34m=\u001b[0m \u001b[0;32mTrue\u001b[0m\u001b[0;34m\u001b[0m\u001b[0;34m\u001b[0m\u001b[0m\n\u001b[0;32m---> 15\u001b[0;31m                     \u001b[0mretval_\u001b[0m \u001b[0;34m=\u001b[0m \u001b[0mag__\u001b[0m\u001b[0;34m.\u001b[0m\u001b[0mconverted_call\u001b[0m\u001b[0;34m(\u001b[0m\u001b[0mag__\u001b[0m\u001b[0;34m.\u001b[0m\u001b[0mld\u001b[0m\u001b[0;34m(\u001b[0m\u001b[0mstep_function\u001b[0m\u001b[0;34m)\u001b[0m\u001b[0;34m,\u001b[0m \u001b[0;34m(\u001b[0m\u001b[0mag__\u001b[0m\u001b[0;34m.\u001b[0m\u001b[0mld\u001b[0m\u001b[0;34m(\u001b[0m\u001b[0mself\u001b[0m\u001b[0;34m)\u001b[0m\u001b[0;34m,\u001b[0m \u001b[0mag__\u001b[0m\u001b[0;34m.\u001b[0m\u001b[0mld\u001b[0m\u001b[0;34m(\u001b[0m\u001b[0miterator\u001b[0m\u001b[0;34m)\u001b[0m\u001b[0;34m)\u001b[0m\u001b[0;34m,\u001b[0m \u001b[0;32mNone\u001b[0m\u001b[0;34m,\u001b[0m \u001b[0mfscope\u001b[0m\u001b[0;34m)\u001b[0m\u001b[0;34m\u001b[0m\u001b[0;34m\u001b[0m\u001b[0m\n\u001b[0m\u001b[1;32m     16\u001b[0m                 \u001b[0;32mexcept\u001b[0m\u001b[0;34m:\u001b[0m\u001b[0;34m\u001b[0m\u001b[0;34m\u001b[0m\u001b[0m\n\u001b[1;32m     17\u001b[0m                     \u001b[0mdo_return\u001b[0m \u001b[0;34m=\u001b[0m \u001b[0;32mFalse\u001b[0m\u001b[0;34m\u001b[0m\u001b[0;34m\u001b[0m\u001b[0m\n",
            "\u001b[0;31mValueError\u001b[0m: in user code:\n\n    File \"/usr/local/lib/python3.10/dist-packages/keras/engine/training.py\", line 2169, in predict_function  *\n        return step_function(self, iterator)\n    File \"/usr/local/lib/python3.10/dist-packages/keras/engine/training.py\", line 2155, in step_function  **\n        outputs = model.distribute_strategy.run(run_step, args=(data,))\n    File \"/usr/local/lib/python3.10/dist-packages/keras/engine/training.py\", line 2143, in run_step  **\n        outputs = model.predict_step(data)\n    File \"/usr/local/lib/python3.10/dist-packages/keras/engine/training.py\", line 2111, in predict_step\n        return self(x, training=False)\n    File \"/usr/local/lib/python3.10/dist-packages/keras/utils/traceback_utils.py\", line 70, in error_handler\n        raise e.with_traceback(filtered_tb) from None\n    File \"/usr/local/lib/python3.10/dist-packages/keras/engine/input_spec.py\", line 298, in assert_input_compatibility\n        raise ValueError(\n\n    ValueError: Input 0 of layer \"model\" is incompatible with the layer: expected shape=(None, 12, 15, 512), found shape=(None, 488, 395, 3)\n"
          ]
        }
      ],
      "source": [
        "# Create an empty array to store predictions and file names\n",
        "predictions_with_filenames = []\n",
        "\n",
        "# Loop through each test image, make predictions and store the predicted label\n",
        "for image_path in test_image_paths:\n",
        "    # Load the image and resize it to the target size\n",
        "    img = keras.preprocessing.image.load_img(image_path)\n",
        "\n",
        "    # Convert the image to a numpy array\n",
        "    img_array = keras.preprocessing.image.img_to_array(img)\n",
        "\n",
        "    # prep\n",
        "    img_array = keras.applications.vgg19.preprocess_input(img_array)\n",
        "\n",
        "    # Expand the dimensions of the array to create a batch axis\n",
        "    img_array = np.expand_dims(img_array, 0)\n",
        "\n",
        "    # Make predictions on the image\n",
        "    predictions = model.predict(img_array)\n",
        "\n",
        "    # Convert the predictions to a binary label (0 for Normal, 1 for Sick)\n",
        "    predicted_label = int(predictions[0] > 0.5)\n",
        "\n",
        "    # Extract the file name from the image path\n",
        "    file_name = os.path.basename(image_path)\n",
        "\n",
        "    # Add the predicted label and file name to the list\n",
        "    predictions_with_filenames.append((file_name, predicted_label))"
      ]
    },
    {
      "cell_type": "code",
      "execution_count": 21,
      "metadata": {
        "id": "o5lBcga9if29",
        "colab": {
          "base_uri": "https://localhost:8080/",
          "height": 183
        },
        "outputId": "f4afacdd-78bd-48c8-bf27-a23e96376d76"
      },
      "outputs": [
        {
          "output_type": "error",
          "ename": "NameError",
          "evalue": "ignored",
          "traceback": [
            "\u001b[0;31m---------------------------------------------------------------------------\u001b[0m",
            "\u001b[0;31mNameError\u001b[0m                                 Traceback (most recent call last)",
            "\u001b[0;32m<ipython-input-21-c5a4e50de23b>\u001b[0m in \u001b[0;36m<cell line: 2>\u001b[0;34m()\u001b[0m\n\u001b[1;32m      1\u001b[0m \u001b[0mimg_array\u001b[0m \u001b[0;34m=\u001b[0m \u001b[0mkeras\u001b[0m\u001b[0;34m.\u001b[0m\u001b[0mpreprocessing\u001b[0m\u001b[0;34m.\u001b[0m\u001b[0mimage\u001b[0m\u001b[0;34m.\u001b[0m\u001b[0mimg_to_array\u001b[0m\u001b[0;34m(\u001b[0m\u001b[0mimg\u001b[0m\u001b[0;34m)\u001b[0m\u001b[0;34m\u001b[0m\u001b[0;34m\u001b[0m\u001b[0m\n\u001b[0;32m----> 2\u001b[0;31m \u001b[0mimg_array\u001b[0m \u001b[0;34m=\u001b[0m\u001b[0mtf\u001b[0m\u001b[0;34m.\u001b[0m\u001b[0mexpand_dims\u001b[0m\u001b[0;34m(\u001b[0m\u001b[0mimg_array\u001b[0m\u001b[0;34m,\u001b[0m\u001b[0;36m0\u001b[0m\u001b[0;34m)\u001b[0m\u001b[0;34m\u001b[0m\u001b[0;34m\u001b[0m\u001b[0m\n\u001b[0m",
            "\u001b[0;31mNameError\u001b[0m: name 'tf' is not defined"
          ]
        }
      ],
      "source": [
        "img_array = keras.preprocessing.image.img_to_array(img)\n",
        "img_array =tf.expand_dims(img_array,0)"
      ]
    },
    {
      "cell_type": "code",
      "execution_count": null,
      "metadata": {
        "id": "cJo_Am43kS-z"
      },
      "outputs": [],
      "source": [
        "img_array = keras.application.vgg19.preprocess_input(img_array)"
      ]
    },
    {
      "cell_type": "code",
      "execution_count": null,
      "metadata": {
        "id": "U2ab11nEi3Qa"
      },
      "outputs": [],
      "source": [
        "predictions = model.predict(img_array)\n",
        "score = float(predictions[0])\n",
        "score\n",
        "print(f\"This image is {100*(1 - score):.2f}% Normal and {100* score:.2f}% Sick.\")"
      ]
    }
  ],
  "metadata": {
    "colab": {
      "provenance": [],
      "include_colab_link": true
    },
    "kernelspec": {
      "display_name": "Python 3",
      "name": "python3"
    },
    "language_info": {
      "name": "python"
    }
  },
  "nbformat": 4,
  "nbformat_minor": 0
}