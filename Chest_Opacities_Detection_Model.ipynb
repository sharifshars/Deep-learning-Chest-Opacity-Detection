{
  "cells": [
    {
      "cell_type": "markdown",
      "metadata": {
        "id": "view-in-github",
        "colab_type": "text"
      },
      "source": [
        "<a href=\"https://colab.research.google.com/github/sharifshars/Deep-learning-Chest-Opacity-Detection/blob/main/Chest_Opacities_Detection_Model.ipynb\" target=\"_parent\"><img src=\"https://colab.research.google.com/assets/colab-badge.svg\" alt=\"Open In Colab\"/></a>"
      ]
    },
    {
      "cell_type": "code",
      "execution_count": null,
      "metadata": {
        "id": "aTUbP0U8Zuco"
      },
      "outputs": [],
      "source": []
    },
    {
      "cell_type": "code",
      "execution_count": 39,
      "metadata": {
        "colab": {
          "base_uri": "https://localhost:8080/"
        },
        "id": "CpEi4vwG56rS",
        "outputId": "4438b937-8c22-458e-951d-4ee03cb73ea5"
      },
      "outputs": [
        {
          "output_type": "stream",
          "name": "stdout",
          "text": [
            "Drive already mounted at /content/drive; to attempt to forcibly remount, call drive.mount(\"/content/drive\", force_remount=True).\n"
          ]
        }
      ],
      "source": [
        "from google.colab import drive\n",
        "drive.mount('/content/drive')"
      ]
    },
    {
      "cell_type": "code",
      "execution_count": 80,
      "metadata": {
        "id": "EsgWY4Jy7FgL"
      },
      "outputs": [],
      "source": [
        "from tensorflow import keras\n",
        "from keras import layers\n",
        "import os\n",
        "import numpy as np\n",
        "from keras.applications.vgg19 import preprocess_input\n",
        "import csv\n"
      ]
    },
    {
      "cell_type": "code",
      "execution_count": 41,
      "metadata": {
        "id": "xDXLOfrJ7bP_"
      },
      "outputs": [],
      "source": [
        "# Path to the images\n",
        "path_to_images =\"/content/drive/MyDrive/Dataset/dataset1/known_images\""
      ]
    },
    {
      "cell_type": "code",
      "execution_count": 42,
      "metadata": {
        "colab": {
          "base_uri": "https://localhost:8080/"
        },
        "id": "GQnotKBk7ra0",
        "outputId": "9b34feaf-8baf-49dc-a42e-4814c0086fa5"
      },
      "outputs": [
        {
          "output_type": "stream",
          "name": "stdout",
          "text": [
            "Found 715 files belonging to 2 classes.\n",
            "Using 572 files for training.\n",
            "Using 143 files for validation.\n"
          ]
        }
      ],
      "source": [
        "train_dataset, val_dataset = keras.utils.image_dataset_from_directory(\n",
        "    path_to_images,\n",
        "    class_names= [\"Normal\",\"Sick\"],\n",
        "    batch_size =32,\n",
        "    image_size =(395, 488),\n",
        "    validation_split =0.2,\n",
        "    subset = \"both\",\n",
        "    seed=200\n",
        ")"
      ]
    },
    {
      "cell_type": "code",
      "execution_count": 43,
      "metadata": {
        "id": "sOXQEdPI8Qo6"
      },
      "outputs": [],
      "source": [
        "#instantiating and freesing the VGG19 convolutional base\n",
        "conv_base = keras.applications.vgg19.VGG19(\n",
        "    weights=\"imagenet\",\n",
        "    include_top= False,\n",
        "    input_shape =(395, 488, 3)\n",
        ")\n",
        "\n",
        "# conv_base.trainable = False"
      ]
    },
    {
      "cell_type": "code",
      "execution_count": 44,
      "metadata": {
        "id": "7KEoQSbUHS-S"
      },
      "outputs": [],
      "source": [
        "def get_features_and_labels(dataset):\n",
        "  all_features = []\n",
        "  all_labels = []\n",
        "\n",
        "  for images, labels in dataset:\n",
        "    preprocessed_images = keras.applications.vgg19.preprocess_input(images)\n",
        "    features = conv_base.predict(preprocessed_images)\n",
        "\n",
        "    all_features.append(features)\n",
        "    all_labels.append(labels)\n",
        "\n",
        "  return np.concatenate(all_features), np.concatenate(all_labels)"
      ]
    },
    {
      "cell_type": "code",
      "execution_count": 45,
      "metadata": {
        "colab": {
          "base_uri": "https://localhost:8080/"
        },
        "id": "yznf5_slIUki",
        "outputId": "b620e0fe-e9c1-4be8-c76e-06645547238e"
      },
      "outputs": [
        {
          "output_type": "stream",
          "name": "stdout",
          "text": [
            "1/1 [==============================] - 95s 95s/step\n",
            "1/1 [==============================] - 90s 90s/step\n",
            "1/1 [==============================] - 90s 90s/step\n",
            "1/1 [==============================] - 92s 92s/step\n",
            "1/1 [==============================] - 94s 94s/step\n",
            "1/1 [==============================] - 95s 95s/step\n",
            "1/1 [==============================] - 88s 88s/step\n",
            "1/1 [==============================] - 90s 90s/step\n",
            "1/1 [==============================] - 88s 88s/step\n",
            "1/1 [==============================] - 96s 96s/step\n",
            "1/1 [==============================] - 100s 100s/step\n",
            "1/1 [==============================] - 100s 100s/step\n",
            "1/1 [==============================] - 93s 93s/step\n",
            "1/1 [==============================] - 92s 92s/step\n",
            "1/1 [==============================] - 94s 94s/step\n",
            "1/1 [==============================] - 91s 91s/step\n",
            "1/1 [==============================] - 104s 104s/step\n",
            "1/1 [==============================] - 81s 81s/step\n",
            "1/1 [==============================] - 95s 95s/step\n",
            "1/1 [==============================] - 92s 92s/step\n",
            "1/1 [==============================] - 92s 92s/step\n",
            "1/1 [==============================] - 90s 90s/step\n",
            "1/1 [==============================] - 42s 42s/step\n"
          ]
        }
      ],
      "source": [
        "train_features, train_labels = get_features_and_labels(train_dataset)\n",
        "val_features, val_labels = get_features_and_labels(val_dataset)"
      ]
    },
    {
      "cell_type": "code",
      "execution_count": 50,
      "metadata": {
        "colab": {
          "base_uri": "https://localhost:8080/"
        },
        "id": "q0JT2egm80lM",
        "outputId": "eebe7743-352d-467d-f8fb-c07c173eca5f"
      },
      "outputs": [
        {
          "output_type": "execute_result",
          "data": {
            "text/plain": [
              "(572, 12, 15, 512)"
            ]
          },
          "metadata": {},
          "execution_count": 50
        }
      ],
      "source": [
        "train_features.shape"
      ]
    },
    {
      "cell_type": "code",
      "execution_count": 53,
      "metadata": {
        "id": "7-FVuNYT9YdY"
      },
      "outputs": [],
      "source": [
        "inputs = keras.Input(shape=(12,15, 512))\n",
        "\n",
        "x = layers.Flatten()(inputs)\n",
        "x = layers.Dense(256)(x)\n",
        "x = layers.Dropout(0.5)(x)\n",
        "\n",
        "outputs = layers.Dense(1, activation=\"sigmoid\")(x)\n",
        "model = keras.Model(inputs, outputs)"
      ]
    },
    {
      "cell_type": "code",
      "execution_count": 98,
      "metadata": {
        "id": "2zjwNfdJ-ZZ8"
      },
      "outputs": [],
      "source": [
        "model.compile(\n",
        "    loss = \"binary_crossentropy\",\n",
        "    optimizer=\"adam\",\n",
        "    metrics=[keras.metrics.Accuracy(), keras.metrics.AUC(), keras.metrics.Precision(), keras.metrics.Recall()]\n",
        ")"
      ]
    },
    {
      "cell_type": "code",
      "execution_count": 99,
      "metadata": {
        "id": "pigGP--P_NJ-"
      },
      "outputs": [],
      "source": [
        "callbacks=[\n",
        "    keras.callbacks.ModelCheckpoint(\n",
        "        filepath=\"chest_opacities_detection_with_Vgg19.keras\",\n",
        "        save_best_only=True,\n",
        "        monitor =\"val_loss\"\n",
        "    )\n",
        "]"
      ]
    },
    {
      "cell_type": "code",
      "execution_count": 100,
      "metadata": {
        "colab": {
          "base_uri": "https://localhost:8080/"
        },
        "id": "R95icX2w_3Fr",
        "outputId": "3f96c2cc-b227-48e4-b2b8-68c4da85a0cb"
      },
      "outputs": [
        {
          "output_type": "stream",
          "name": "stdout",
          "text": [
            "Epoch 1/30\n",
            "18/18 [==============================] - 16s 851ms/step - loss: 1.2699 - accuracy: 0.9685 - auc_6: 0.9859 - precision_6: 0.9828 - recall_6: 0.9896 - val_loss: 2.0592 - val_accuracy: 0.9720 - val_auc_6: 0.9777 - val_precision_6: 0.9836 - val_recall_6: 0.9677\n",
            "Epoch 2/30\n",
            "18/18 [==============================] - 9s 478ms/step - loss: 1.5278 - accuracy: 0.9703 - auc_6: 0.9773 - precision_6: 0.9825 - recall_6: 0.9723 - val_loss: 4.4057 - val_accuracy: 0.9720 - val_auc_6: 0.9815 - val_precision_6: 0.9538 - val_recall_6: 1.0000\n",
            "Epoch 3/30\n",
            "18/18 [==============================] - 8s 455ms/step - loss: 0.9310 - accuracy: 0.9843 - auc_6: 0.9913 - precision_6: 0.9931 - recall_6: 0.9896 - val_loss: 3.3544 - val_accuracy: 0.9860 - val_auc_6: 0.9877 - val_precision_6: 0.9688 - val_recall_6: 1.0000\n",
            "Epoch 4/30\n",
            "18/18 [==============================] - 10s 572ms/step - loss: 2.0799 - accuracy: 0.9755 - auc_6: 0.9860 - precision_6: 0.9861 - recall_6: 0.9827 - val_loss: 1.8823 - val_accuracy: 0.9790 - val_auc_6: 0.9877 - val_precision_6: 0.9688 - val_recall_6: 1.0000\n",
            "Epoch 5/30\n",
            "18/18 [==============================] - 7s 413ms/step - loss: 1.9543 - accuracy: 0.9773 - auc_6: 0.9842 - precision_6: 0.9828 - recall_6: 0.9862 - val_loss: 5.9337 - val_accuracy: 0.9720 - val_auc_6: 0.9677 - val_precision_6: 1.0000 - val_recall_6: 0.9355\n",
            "Epoch 6/30\n",
            "18/18 [==============================] - 9s 511ms/step - loss: 6.6520e-10 - accuracy: 0.9983 - auc_6: 1.0000 - precision_6: 1.0000 - recall_6: 1.0000 - val_loss: 6.3877 - val_accuracy: 0.9371 - val_auc_6: 0.9753 - val_precision_6: 0.9394 - val_recall_6: 1.0000\n",
            "Epoch 7/30\n",
            "18/18 [==============================] - 10s 571ms/step - loss: 0.3348 - accuracy: 0.9895 - auc_6: 0.9947 - precision_6: 0.9897 - recall_6: 1.0000 - val_loss: 16.0574 - val_accuracy: 0.9580 - val_auc_6: 0.9597 - val_precision_6: 1.0000 - val_recall_6: 0.9194\n",
            "Epoch 8/30\n",
            "18/18 [==============================] - 8s 423ms/step - loss: 0.2012 - accuracy: 0.9913 - auc_6: 0.9948 - precision_6: 1.0000 - recall_6: 0.9896 - val_loss: 6.2128 - val_accuracy: 0.9720 - val_auc_6: 0.9715 - val_precision_6: 0.9677 - val_recall_6: 0.9677\n",
            "Epoch 9/30\n",
            "18/18 [==============================] - 9s 533ms/step - loss: 0.3977 - accuracy: 0.9948 - auc_6: 0.9965 - precision_6: 0.9931 - recall_6: 1.0000 - val_loss: 6.3662 - val_accuracy: 0.9650 - val_auc_6: 0.9635 - val_precision_6: 0.9672 - val_recall_6: 0.9516\n",
            "Epoch 10/30\n",
            "18/18 [==============================] - 12s 693ms/step - loss: 0.0185 - accuracy: 0.9965 - auc_6: 0.9983 - precision_6: 1.0000 - recall_6: 0.9965 - val_loss: 4.6285 - val_accuracy: 0.9720 - val_auc_6: 0.9715 - val_precision_6: 0.9677 - val_recall_6: 0.9677\n",
            "Epoch 11/30\n",
            "18/18 [==============================] - 15s 836ms/step - loss: 3.1879e-09 - accuracy: 0.9983 - auc_6: 1.0000 - precision_6: 1.0000 - recall_6: 1.0000 - val_loss: 4.4319 - val_accuracy: 0.9720 - val_auc_6: 0.9715 - val_precision_6: 0.9677 - val_recall_6: 0.9677\n",
            "Epoch 12/30\n",
            "18/18 [==============================] - 8s 426ms/step - loss: 2.6658e-06 - accuracy: 0.9965 - auc_6: 1.0000 - precision_6: 1.0000 - recall_6: 1.0000 - val_loss: 4.3512 - val_accuracy: 0.9720 - val_auc_6: 0.9715 - val_precision_6: 0.9677 - val_recall_6: 0.9677\n",
            "Epoch 13/30\n",
            "18/18 [==============================] - 9s 533ms/step - loss: 0.0803 - accuracy: 0.9965 - auc_6: 0.9965 - precision_6: 0.9965 - recall_6: 0.9965 - val_loss: 5.4662 - val_accuracy: 0.9650 - val_auc_6: 0.9635 - val_precision_6: 0.9672 - val_recall_6: 0.9516\n",
            "Epoch 14/30\n",
            "18/18 [==============================] - 8s 468ms/step - loss: 1.0374 - accuracy: 0.9895 - auc_6: 0.9912 - precision_6: 0.9897 - recall_6: 0.9931 - val_loss: 4.9897 - val_accuracy: 0.9860 - val_auc_6: 0.9877 - val_precision_6: 0.9688 - val_recall_6: 1.0000\n",
            "Epoch 15/30\n",
            "18/18 [==============================] - 9s 498ms/step - loss: 0.6335 - accuracy: 0.9983 - auc_6: 0.9983 - precision_6: 1.0000 - recall_6: 0.9965 - val_loss: 3.3211 - val_accuracy: 0.9790 - val_auc_6: 0.9777 - val_precision_6: 0.9836 - val_recall_6: 0.9677\n",
            "Epoch 16/30\n",
            "18/18 [==============================] - 10s 587ms/step - loss: 0.3685 - accuracy: 0.9965 - auc_6: 0.9965 - precision_6: 0.9965 - recall_6: 0.9965 - val_loss: 1.1682 - val_accuracy: 0.9860 - val_auc_6: 0.9937 - val_precision_6: 0.9841 - val_recall_6: 1.0000\n",
            "Epoch 17/30\n",
            "18/18 [==============================] - 8s 456ms/step - loss: 0.0000e+00 - accuracy: 1.0000 - auc_6: 1.0000 - precision_6: 1.0000 - recall_6: 1.0000 - val_loss: 0.4287 - val_accuracy: 0.9790 - val_auc_6: 0.9937 - val_precision_6: 0.9841 - val_recall_6: 1.0000\n",
            "Epoch 18/30\n",
            "18/18 [==============================] - 10s 544ms/step - loss: 0.0000e+00 - accuracy: 1.0000 - auc_6: 1.0000 - precision_6: 1.0000 - recall_6: 1.0000 - val_loss: 0.3290 - val_accuracy: 0.9790 - val_auc_6: 0.9937 - val_precision_6: 0.9839 - val_recall_6: 0.9839\n",
            "Epoch 19/30\n",
            "18/18 [==============================] - 11s 604ms/step - loss: 0.0000e+00 - accuracy: 1.0000 - auc_6: 1.0000 - precision_6: 1.0000 - recall_6: 1.0000 - val_loss: 0.3142 - val_accuracy: 0.9790 - val_auc_6: 0.9937 - val_precision_6: 0.9839 - val_recall_6: 0.9839\n",
            "Epoch 20/30\n",
            "18/18 [==============================] - 8s 454ms/step - loss: 0.0000e+00 - accuracy: 1.0000 - auc_6: 1.0000 - precision_6: 1.0000 - recall_6: 1.0000 - val_loss: 0.3120 - val_accuracy: 0.9790 - val_auc_6: 0.9937 - val_precision_6: 0.9839 - val_recall_6: 0.9839\n",
            "Epoch 21/30\n",
            "18/18 [==============================] - 17s 951ms/step - loss: 0.0000e+00 - accuracy: 1.0000 - auc_6: 1.0000 - precision_6: 1.0000 - recall_6: 1.0000 - val_loss: 0.3116 - val_accuracy: 0.9790 - val_auc_6: 0.9937 - val_precision_6: 0.9839 - val_recall_6: 0.9839\n",
            "Epoch 22/30\n",
            "18/18 [==============================] - 11s 597ms/step - loss: 0.0000e+00 - accuracy: 1.0000 - auc_6: 1.0000 - precision_6: 1.0000 - recall_6: 1.0000 - val_loss: 0.3116 - val_accuracy: 0.9790 - val_auc_6: 0.9937 - val_precision_6: 0.9839 - val_recall_6: 0.9839\n",
            "Epoch 23/30\n",
            "18/18 [==============================] - 9s 503ms/step - loss: 0.2062 - accuracy: 0.9948 - auc_6: 0.9965 - precision_6: 0.9965 - recall_6: 0.9965 - val_loss: 6.2462 - val_accuracy: 0.9720 - val_auc_6: 0.9753 - val_precision_6: 0.9394 - val_recall_6: 1.0000\n",
            "Epoch 24/30\n",
            "18/18 [==============================] - 8s 412ms/step - loss: 0.0487 - accuracy: 0.9983 - auc_6: 0.9982 - precision_6: 0.9966 - recall_6: 1.0000 - val_loss: 11.2471 - val_accuracy: 0.9720 - val_auc_6: 0.9677 - val_precision_6: 1.0000 - val_recall_6: 0.9355\n",
            "Epoch 25/30\n",
            "18/18 [==============================] - 9s 516ms/step - loss: 0.2208 - accuracy: 0.9913 - auc_6: 0.9965 - precision_6: 0.9965 - recall_6: 0.9931 - val_loss: 7.3410 - val_accuracy: 0.9720 - val_auc_6: 0.9815 - val_precision_6: 0.9538 - val_recall_6: 1.0000\n",
            "Epoch 26/30\n",
            "18/18 [==============================] - 7s 414ms/step - loss: 0.9950 - accuracy: 0.9913 - auc_6: 0.9913 - precision_6: 0.9931 - recall_6: 0.9896 - val_loss: 3.2013 - val_accuracy: 0.9790 - val_auc_6: 0.9777 - val_precision_6: 0.9836 - val_recall_6: 0.9677\n",
            "Epoch 27/30\n",
            "18/18 [==============================] - 9s 531ms/step - loss: 0.2865 - accuracy: 0.9965 - auc_6: 0.9982 - precision_6: 0.9966 - recall_6: 1.0000 - val_loss: 2.9320 - val_accuracy: 0.9860 - val_auc_6: 0.9877 - val_precision_6: 0.9688 - val_recall_6: 1.0000\n",
            "Epoch 28/30\n",
            "18/18 [==============================] - 8s 475ms/step - loss: 0.0000e+00 - accuracy: 1.0000 - auc_6: 1.0000 - precision_6: 1.0000 - recall_6: 1.0000 - val_loss: 2.0648 - val_accuracy: 0.9790 - val_auc_6: 0.9777 - val_precision_6: 0.9836 - val_recall_6: 0.9677\n",
            "Epoch 29/30\n",
            "18/18 [==============================] - 8s 450ms/step - loss: 0.0000e+00 - accuracy: 1.0000 - auc_6: 1.0000 - precision_6: 1.0000 - recall_6: 1.0000 - val_loss: 2.1806 - val_accuracy: 0.9790 - val_auc_6: 0.9777 - val_precision_6: 0.9836 - val_recall_6: 0.9677\n",
            "Epoch 30/30\n",
            "18/18 [==============================] - 9s 520ms/step - loss: 0.0000e+00 - accuracy: 1.0000 - auc_6: 1.0000 - precision_6: 1.0000 - recall_6: 1.0000 - val_loss: 2.1984 - val_accuracy: 0.9790 - val_auc_6: 0.9777 - val_precision_6: 0.9836 - val_recall_6: 0.9677\n"
          ]
        }
      ],
      "source": [
        "history = model.fit(\n",
        "    train_features, train_labels,\n",
        "    epochs=30,\n",
        "    validation_data=(val_features, val_labels),\n",
        "    callbacks=callbacks\n",
        ")"
      ]
    },
    {
      "cell_type": "code",
      "execution_count": 101,
      "metadata": {
        "id": "C7UXxzXmAQ1m",
        "colab": {
          "base_uri": "https://localhost:8080/",
          "height": 887
        },
        "outputId": "aa73397d-bfa7-4afa-d193-47e48dfefa22"
      },
      "outputs": [
        {
          "output_type": "display_data",
          "data": {
            "text/plain": [
              "<Figure size 640x480 with 1 Axes>"
            ],
            "image/png": "[encoded data removed]"
          },
          "metadata": {}
        },
        {
          "output_type": "display_data",
          "data": {
            "text/plain": [
              "<Figure size 640x480 with 1 Axes>"
            ],
            "image/png": "[encoded data removed]"
          },
          "metadata": {}
        }
      ],
      "source": [
        "import matplotlib.pyplot as plt\n",
        "\n",
        "# Training accuracy\n",
        "acc = history.history[\"accuracy\"]\n",
        "auc = history.history[\"auc_6\"]\n",
        "precision = history.history[\"precision_6\"]\n",
        "recall = history.history[\"recall_6\"]\n",
        "\n",
        "# Validation accuracy\n",
        "val_acc = history.history[\"val_accuracy\"]\n",
        "val_auc = history.history[\"auc_6\"]\n",
        "val_precision = history.history[\"precision_6\"]\n",
        "val_recall = history.history[\"recall_6\"]\n",
        "\n",
        "# loss\n",
        "loss=history.history[\"loss\"]\n",
        "val_loss =history.history[\"val_loss\"]\n",
        "epochs = range(1,len(acc)+1)\n",
        "\n",
        "#Accuracy plots\n",
        "plt.plot(epochs, acc,\"bo\", label = \"Training accuracy\")\n",
        "plt.plot(epochs, auc,\"m\", label = \"Training AUC\")\n",
        "plt.plot(epochs, recall,\"k\", label = \"Training Recall\")\n",
        "plt.plot(epochs, precision,\"c1\", label = \"Training Precision\")\n",
        "\n",
        "plt.plot(epochs,val_acc, \"b\", label =\"validation accuracy\")\n",
        "plt.plot(epochs,val_auc, \"c\", label =\"validation AUC\")\n",
        "plt.plot(epochs,val_recall, \"g\", label =\"validation Recall\")\n",
        "plt.plot(epochs,val_precision, \"y\", label =\"validation Precision\")\n",
        "\n",
        "plt.title(\"Training and validation accuracy\")\n",
        "plt.legend()\n",
        "plt.figure()\n",
        "\n",
        "#loss plot\n",
        "plt.plot(epochs, loss, \"bo\", label=\"Training loss\")\n",
        "plt.plot(epochs, val_loss, \"b\", label=\"Validation loss\")\n",
        "plt.title(\"Training and validation loss\")\n",
        "plt.legend()\n",
        "plt.show()"
      ]
    },
    {
      "cell_type": "code",
      "execution_count": 103,
      "metadata": {
        "colab": {
          "base_uri": "https://localhost:8080/"
        },
        "id": "0urGu7CmZoL0",
        "outputId": "c3813b31-0cbb-4b1a-da94-daf50c40a425"
      },
      "outputs": [
        {
          "output_type": "stream",
          "name": "stdout",
          "text": [
            "Model: \"model_3\"\n",
            "_________________________________________________________________\n",
            " Layer (type)                Output Shape              Param #   \n",
            "=================================================================\n",
            " input_6 (InputLayer)        [(None, 12, 15, 512)]     0         \n",
            "                                                                 \n",
            " flatten_3 (Flatten)         (None, 92160)             0         \n",
            "                                                                 \n",
            " dense_6 (Dense)             (None, 256)               23593216  \n",
            "                                                                 \n",
            " dropout_3 (Dropout)         (None, 256)               0         \n",
            "                                                                 \n",
            " dense_7 (Dense)             (None, 1)                 257       \n",
            "                                                                 \n",
            "=================================================================\n",
            "Total params: 23,593,473\n",
            "Trainable params: 23,593,473\n",
            "Non-trainable params: 0\n",
            "_________________________________________________________________\n"
          ]
        }
      ],
      "source": [
        "model = keras.models.load_model(\"/content/chest_opacities_detection_with_Vgg19.keras\")\n",
        "model.summary()\n"
      ]
    },
    {
      "cell_type": "code",
      "execution_count": 104,
      "metadata": {
        "id": "CLLAcnSlc8D7"
      },
      "outputs": [],
      "source": [
        "# Define the directory containing the test images\n",
        "test_dir = \"/content/drive/MyDrive/Dataset/dataset1/unknown_images\"\n",
        "\n",
        "# Get the list of test image file paths\n",
        "test_image_paths = [os.path.join(test_dir, f) for f in os.listdir(test_dir)]"
      ]
    },
    {
      "cell_type": "code",
      "execution_count": 105,
      "metadata": {
        "colab": {
          "base_uri": "https://localhost:8080/"
        },
        "id": "mqJ603c0EiNA",
        "outputId": "d4ff2a0d-22c6-4f06-c17a-76b50037f01b"
      },
      "outputs": [
        {
          "output_type": "stream",
          "name": "stdout",
          "text": [
            "1/1 [==============================] - 4s 4s/step\n",
            "1/1 [==============================] - 0s 70ms/step\n",
            "1/1 [==============================] - 3s 3s/step\n",
            "1/1 [==============================] - 0s 40ms/step\n",
            "1/1 [==============================] - 3s 3s/step\n",
            "1/1 [==============================] - 0s 36ms/step\n",
            "1/1 [==============================] - 6s 6s/step\n",
            "1/1 [==============================] - 0s 35ms/step\n",
            "1/1 [==============================] - 3s 3s/step\n",
            "1/1 [==============================] - 0s 33ms/step\n",
            "1/1 [==============================] - 3s 3s/step\n",
            "1/1 [==============================] - 0s 39ms/step\n",
            "1/1 [==============================] - 5s 5s/step\n",
            "1/1 [==============================] - 0s 187ms/step\n",
            "1/1 [==============================] - 6s 6s/step\n",
            "1/1 [==============================] - 0s 99ms/step\n",
            "1/1 [==============================] - 3s 3s/step\n",
            "1/1 [==============================] - 0s 34ms/step\n",
            "1/1 [==============================] - 3s 3s/step\n",
            "1/1 [==============================] - 0s 34ms/step\n",
            "1/1 [==============================] - 3s 3s/step\n",
            "1/1 [==============================] - 0s 47ms/step\n",
            "1/1 [==============================] - 4s 4s/step\n",
            "1/1 [==============================] - 0s 38ms/step\n",
            "1/1 [==============================] - 3s 3s/step\n",
            "1/1 [==============================] - 0s 36ms/step\n",
            "1/1 [==============================] - 3s 3s/step\n",
            "1/1 [==============================] - 0s 38ms/step\n",
            "1/1 [==============================] - 3s 3s/step\n",
            "1/1 [==============================] - 0s 37ms/step\n",
            "1/1 [==============================] - 4s 4s/step\n",
            "1/1 [==============================] - 0s 58ms/step\n",
            "1/1 [==============================] - 4s 4s/step\n",
            "1/1 [==============================] - 0s 34ms/step\n",
            "1/1 [==============================] - 3s 3s/step\n",
            "1/1 [==============================] - 0s 34ms/step\n",
            "1/1 [==============================] - 3s 3s/step\n",
            "1/1 [==============================] - 0s 38ms/step\n",
            "1/1 [==============================] - 3s 3s/step\n",
            "1/1 [==============================] - 0s 37ms/step\n",
            "1/1 [==============================] - 4s 4s/step\n",
            "1/1 [==============================] - 0s 48ms/step\n",
            "1/1 [==============================] - 3s 3s/step\n",
            "1/1 [==============================] - 0s 34ms/step\n",
            "1/1 [==============================] - 2s 2s/step\n",
            "1/1 [==============================] - 0s 34ms/step\n",
            "1/1 [==============================] - 3s 3s/step\n",
            "1/1 [==============================] - 0s 34ms/step\n",
            "1/1 [==============================] - 3s 3s/step\n",
            "1/1 [==============================] - 0s 34ms/step\n",
            "1/1 [==============================] - 4s 4s/step\n",
            "1/1 [==============================] - 0s 50ms/step\n",
            "1/1 [==============================] - 3s 3s/step\n",
            "1/1 [==============================] - 0s 36ms/step\n",
            "1/1 [==============================] - 3s 3s/step\n",
            "1/1 [==============================] - 0s 34ms/step\n",
            "1/1 [==============================] - 3s 3s/step\n",
            "1/1 [==============================] - 0s 34ms/step\n",
            "1/1 [==============================] - 2s 2s/step\n",
            "1/1 [==============================] - 0s 53ms/step\n",
            "1/1 [==============================] - 5s 5s/step\n",
            "1/1 [==============================] - 0s 35ms/step\n",
            "1/1 [==============================] - 2s 2s/step\n",
            "1/1 [==============================] - 0s 33ms/step\n",
            "1/1 [==============================] - 2s 2s/step\n",
            "1/1 [==============================] - 0s 35ms/step\n",
            "1/1 [==============================] - 2s 2s/step\n",
            "1/1 [==============================] - 0s 35ms/step\n",
            "1/1 [==============================] - 3s 3s/step\n",
            "1/1 [==============================] - 0s 47ms/step\n",
            "1/1 [==============================] - 4s 4s/step\n",
            "1/1 [==============================] - 0s 33ms/step\n",
            "1/1 [==============================] - 3s 3s/step\n",
            "1/1 [==============================] - 0s 33ms/step\n",
            "1/1 [==============================] - 2s 2s/step\n",
            "1/1 [==============================] - 0s 34ms/step\n",
            "1/1 [==============================] - 2s 2s/step\n",
            "1/1 [==============================] - 0s 34ms/step\n",
            "1/1 [==============================] - 3s 3s/step\n",
            "1/1 [==============================] - 0s 44ms/step\n",
            "1/1 [==============================] - 5s 5s/step\n",
            "1/1 [==============================] - 0s 32ms/step\n",
            "1/1 [==============================] - 2s 2s/step\n",
            "1/1 [==============================] - 0s 39ms/step\n",
            "1/1 [==============================] - 3s 3s/step\n",
            "1/1 [==============================] - 0s 41ms/step\n",
            "1/1 [==============================] - 2s 2s/step\n",
            "1/1 [==============================] - 0s 32ms/step\n",
            "1/1 [==============================] - 4s 4s/step\n",
            "1/1 [==============================] - 0s 66ms/step\n",
            "1/1 [==============================] - 3s 3s/step\n",
            "1/1 [==============================] - 0s 33ms/step\n",
            "1/1 [==============================] - 2s 2s/step\n",
            "1/1 [==============================] - 0s 32ms/step\n",
            "1/1 [==============================] - 3s 3s/step\n",
            "1/1 [==============================] - 0s 34ms/step\n",
            "1/1 [==============================] - 2s 2s/step\n",
            "1/1 [==============================] - 0s 33ms/step\n",
            "1/1 [==============================] - 4s 4s/step\n",
            "1/1 [==============================] - 0s 44ms/step\n"
          ]
        }
      ],
      "source": [
        "# Create an empty array to store predictions and file names\n",
        "predictions_with_filenames = []\n",
        "\n",
        "# Loop through each test image, make predictions and store the predicted label\n",
        "for image_path in test_image_paths:\n",
        "    # Load the image and resize it to the target size\n",
        "    img = keras.preprocessing.image.load_img(image_path, target_size = (395, 488))\n",
        "\n",
        "    # Convert the image to a numpy array\n",
        "    img_array = keras.preprocessing.image.img_to_array(img)\n",
        "\n",
        "    # Expand the dimensions of the array to create a batch axis\n",
        "    img_array = np.expand_dims(img_array, axis=0)\n",
        "\n",
        "    # prep\n",
        "    img_array = keras.applications.vgg19.preprocess_input(img_array)\n",
        "\n",
        "    \n",
        "    features = conv_base.predict(img_array)\n",
        "\n",
        "    # Make predictions on the image\n",
        "    predictions = model.predict(features)\n",
        "    \n",
        "\n",
        "    # Convert the predictions to a binary label (0 for Normal, 1 for Sick)\n",
        "    predicted_label = int(predictions[0] > 0.5)\n",
        "\n",
        "    # Extract the file name from the image path\n",
        "    file_name = os.path.basename(image_path)\n",
        "\n",
        "    # Add the predicted label and file name to the list\n",
        "    predictions_with_filenames.append((file_name, predicted_label))"
      ]
    },
    {
      "cell_type": "code",
      "source": [
        "# Save the predictions with file names as a CSV file\n",
        "with open('/content/chest_opacities_detection_Sharif_Kiggundu.csv', 'w', newline='') as csvfile:\n",
        "    writer = csv.writer(csvfile)\n",
        "    # Add name and registration number to file\n",
        "    writer.writerow(['Name:', 'Kiggundu Sharif'])\n",
        "    writer.writerow(['Registration Number:', '2022/HD05/1213U'])\n",
        "    writer.writerow(['File Name', 'Predicted Label'])\n",
        "    for prediction in predictions_with_filenames:\n",
        "        writer.writerow(prediction)"
      ],
      "metadata": {
        "id": "oDUOXZRaBN9S"
      },
      "execution_count": 106,
      "outputs": []
    },
    {
      "cell_type": "code",
      "source": [
        "path_to_dataset_2 = \"/content/drive/MyDrive/Dataset/dataset2/images\""
      ],
      "metadata": {
        "id": "7qYCo2wTDVxW"
      },
      "execution_count": 107,
      "outputs": []
    },
    {
      "cell_type": "code",
      "source": [
        "test_dataset = keras.utils.image_dataset_from_directory(\n",
        "    path_to_dataset_2,\n",
        "    class_names=[\"Normal\", \"Sick\"],\n",
        "    batch_size = 32,\n",
        "    image_size=(395, 488),\n",
        ")"
      ],
      "metadata": {
        "colab": {
          "base_uri": "https://localhost:8080/"
        },
        "id": "TY4uDBquEEdl",
        "outputId": "a623deb2-37b6-4a22-ef16-9c20a5a5dd95"
      },
      "execution_count": 108,
      "outputs": [
        {
          "output_type": "stream",
          "name": "stdout",
          "text": [
            "Found 224 files belonging to 2 classes.\n"
          ]
        }
      ]
    },
    {
      "cell_type": "code",
      "source": [
        "test_model = keras.models.load_model(\"/content/chest_opacities_detection_with_Vgg19.keras\")"
      ],
      "metadata": {
        "id": "l-dt9bUiG5Q9"
      },
      "execution_count": 109,
      "outputs": []
    },
    {
      "cell_type": "code",
      "source": [
        "test_features, test_labels = get_features_and_labels(test_dataset)"
      ],
      "metadata": {
        "colab": {
          "base_uri": "https://localhost:8080/"
        },
        "id": "rVYJS2t1abup",
        "outputId": "2e8a74af-fe81-4b83-ed12-5da69efd2f0e"
      },
      "execution_count": 111,
      "outputs": [
        {
          "output_type": "stream",
          "name": "stdout",
          "text": [
            "1/1 [==============================] - 108s 108s/step\n",
            "1/1 [==============================] - 124s 124s/step\n",
            "1/1 [==============================] - 115s 115s/step\n",
            "1/1 [==============================] - 87s 87s/step\n",
            "1/1 [==============================] - 93s 93s/step\n",
            "1/1 [==============================] - 87s 87s/step\n",
            "1/1 [==============================] - 91s 91s/step\n"
          ]
        }
      ]
    },
    {
      "cell_type": "code",
      "source": [
        " test_results = test_model.evaluate(test_features, test_labels)"
      ],
      "metadata": {
        "colab": {
          "base_uri": "https://localhost:8080/"
        },
        "id": "Bg4JJl3AHCJS",
        "outputId": "c9c77688-7223-4f6a-c9e0-233511ccfd26"
      },
      "execution_count": 113,
      "outputs": [
        {
          "output_type": "stream",
          "name": "stdout",
          "text": [
            "7/7 [==============================] - 1s 122ms/step - loss: 850.9597 - accuracy: 0.4464 - auc_6: 0.4504 - precision_6: 0.4739 - recall_6: 0.8929\n"
          ]
        }
      ]
    },
    {
      "cell_type": "code",
      "source": [
        "print(test_results)"
      ],
      "metadata": {
        "colab": {
          "base_uri": "https://localhost:8080/"
        },
        "id": "E47RaRG8HTJ9",
        "outputId": "d840c096-d65d-44d0-d6ba-90672bdcd936"
      },
      "execution_count": 114,
      "outputs": [
        {
          "output_type": "stream",
          "name": "stdout",
          "text": [
            "[850.9596557617188, 0.4464285671710968, 0.4504145681858063, 0.4739336371421814, 0.8928571343421936]\n"
          ]
        }
      ]
    }
  ],
  "metadata": {
    "colab": {
      "provenance": [],
      "include_colab_link": true
    },
    "kernelspec": {
      "display_name": "Python 3",
      "name": "python3"
    },
    "language_info": {
      "name": "python"
    }
  },
  "nbformat": 4,
  "nbformat_minor": 0
}