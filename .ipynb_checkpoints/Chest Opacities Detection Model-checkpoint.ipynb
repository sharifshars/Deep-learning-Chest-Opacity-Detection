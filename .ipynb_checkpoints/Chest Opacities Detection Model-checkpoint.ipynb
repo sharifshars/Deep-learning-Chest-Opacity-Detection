{
 "cells": [
  {
   "cell_type": "code",
   "execution_count": 2,
   "id": "79dc4982",
   "metadata": {
    "scrolled": true
   },
   "outputs": [
    {
     "ename": "ModuleNotFoundError",
     "evalue": "No module named 'tensorflow'",
     "output_type": "error",
     "traceback": [
      "\u001b[1;31m---------------------------------------------------------------------------\u001b[0m",
      "\u001b[1;31mModuleNotFoundError\u001b[0m                       Traceback (most recent call last)",
      "\u001b[1;32m~\\AppData\\Local\\Temp\\ipykernel_8100\\1589520110.py\u001b[0m in \u001b[0;36m<module>\u001b[1;34m\u001b[0m\n\u001b[1;32m----> 1\u001b[1;33m \u001b[1;32mfrom\u001b[0m \u001b[0mtensorflow\u001b[0m \u001b[1;32mimport\u001b[0m \u001b[0mkeras\u001b[0m\u001b[1;33m\u001b[0m\u001b[1;33m\u001b[0m\u001b[0m\n\u001b[0m",
      "\u001b[1;31mModuleNotFoundError\u001b[0m: No module named 'tensorflow'"
     ]
    }
   ],
   "source": [
    "from tensorflow import keras\n",
    "import tensorflow as tf\n",
    "import numpy as np\n",
    "from sklearn.model_selection import train_test_split\n"
   ]
  },
  {
   "cell_type": "code",
   "execution_count": null,
   "id": "a94bb946",
   "metadata": {},
   "outputs": [],
   "source": [
    "#path for images\n",
    "\n",
    "path_to_images = \"Data/dataset1/known_images\"\n"
   ]
  },
  {
   "cell_type": "code",
   "execution_count": 3,
   "id": "b57eaac6",
   "metadata": {},
   "outputs": [
    {
     "ename": "SyntaxError",
     "evalue": "invalid syntax (4108854685.py, line 1)",
     "output_type": "error",
     "traceback": [
      "\u001b[1;36m  File \u001b[1;32m\"C:\\Users\\SHARIF\\AppData\\Local\\Temp\\ipykernel_8100\\4108854685.py\"\u001b[1;36m, line \u001b[1;32m1\u001b[0m\n\u001b[1;33m    dataset = keras.utils.image_dataset_from_directory(path_to images, batch_size = 50, image_size = (395,488))\u001b[0m\n\u001b[1;37m                                                               ^\u001b[0m\n\u001b[1;31mSyntaxError\u001b[0m\u001b[1;31m:\u001b[0m invalid syntax\n"
     ]
    }
   ],
   "source": [
    "dataset = keras.utils.image_dataset_from_directory(path_to images, class_name=[\"normal\",\"sick\"], batch_size = 50, image_size = (395,488))\n"
   ]
  },
  {
   "cell_type": "code",
   "execution_count": null,
   "id": "6175e07b",
   "metadata": {},
   "outputs": [],
   "source": [
    "#running the dataset\n",
    "X_train, Y_train = dataset"
   ]
  },
  {
   "cell_type": "code",
   "execution_count": null,
   "id": "0723e49f",
   "metadata": {},
   "outputs": [],
   "source": [
    "# Keras builds the Neural Network\n",
    "\n",
    "model = keras.Sequential ()\n",
    "\n",
    "#Adds layers\n",
    "model.add(keras.layer.Rescaling(1.0/255))\n",
    "model.add(keras.layers.Conv2D ((),activation=(\"relu\"))\n",
    "model.add(keras.layers.MaxPool2D(2, 2))\n",
    "model.add(keras.layers. Dropout(0,0.25))\n",
    "          \n",
    "#flatten the Convolution layer output\n",
    "model.add(keras.layers.Flatten())\n",
    "model.add(keras.Layers.Dense(512,activation=\"relu))\n",
    "model.add(keras.layers.Dense(2, activation=\"sigmoid\"))\n"
   ]
  },
  {
   "cell_type": "code",
   "execution_count": null,
   "id": "37783e6e",
   "metadata": {},
   "outputs": [],
   "source": []
  },
  {
   "cell_type": "code",
   "execution_count": null,
   "id": "110c87e9",
   "metadata": {},
   "outputs": [],
   "source": [
    "#Compile the model\n",
    "model.compile(optimizer=\"adam\",\n",
    "              loss=\"binary_crossentropy\",\n",
    "              metrics=[\"accuracy\"])\n"
   ]
  },
  {
   "cell_type": "code",
   "execution_count": null,
   "id": "924710ed",
   "metadata": {},
   "outputs": [],
   "source": [
    "#trains the model to fit the data/features\n",
    "#Number of iterations - epochs\n",
    "model.fit(X_train, Y_train, batch_size=32,epochs=30, verbose=1)"
   ]
  },
  {
   "cell_type": "code",
   "execution_count": null,
   "id": "364f2585",
   "metadata": {},
   "outputs": [],
   "source": [
    "#Making predictions"
   ]
  }
 ],
 "metadata": {
  "kernelspec": {
   "display_name": "Python 3 (ipykernel)",
   "language": "python",
   "name": "python3"
  },
  "language_info": {
   "codemirror_mode": {
    "name": "ipython",
    "version": 3
   },
   "file_extension": ".py",
   "mimetype": "text/x-python",
   "name": "python",
   "nbconvert_exporter": "python",
   "pygments_lexer": "ipython3",
   "version": "3.9.13"
  }
 },
 "nbformat": 4,
 "nbformat_minor": 5
}
