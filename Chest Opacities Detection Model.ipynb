{
 "cells": [
  {
   "cell_type": "code",
   "execution_count": 1,
   "id": "1b569239",
   "metadata": {},
   "outputs": [
    {
     "ename": "ModuleNotFoundError",
     "evalue": "No module named 'tensorflow'",
     "output_type": "error",
     "traceback": [
      "\u001b[1;31m---------------------------------------------------------------------------\u001b[0m",
      "\u001b[1;31mModuleNotFoundError\u001b[0m                       Traceback (most recent call last)",
      "\u001b[1;32m~\\AppData\\Local\\Temp\\ipykernel_2340\\1952650592.py\u001b[0m in \u001b[0;36m<module>\u001b[1;34m\u001b[0m\n\u001b[1;32m----> 1\u001b[1;33m \u001b[1;32mfrom\u001b[0m \u001b[0mtensorflow\u001b[0m \u001b[1;32mimport\u001b[0m \u001b[0mkeras\u001b[0m\u001b[1;33m\u001b[0m\u001b[1;33m\u001b[0m\u001b[0m\n\u001b[0m\u001b[0;32m      2\u001b[0m \u001b[1;32mimport\u001b[0m \u001b[0mtensorflow\u001b[0m \u001b[1;32mas\u001b[0m \u001b[0mtf\u001b[0m\u001b[1;33m\u001b[0m\u001b[1;33m\u001b[0m\u001b[0m\n",
      "\u001b[1;31mModuleNotFoundError\u001b[0m: No module named 'tensorflow'"
     ]
    }
   ],
   "source": [
    "from tensorflow import keras\n",
    "import tensorflow as tf"
   ]
  },
  {
   "cell_type": "code",
   "execution_count": 3,
   "id": "a94bb946",
   "metadata": {},
   "outputs": [],
   "source": [
    "#path for images\n",
    "\n",
    "path_to_images = \"Data/dataset1/known_images\"\n"
   ]
  },
  {
   "cell_type": "code",
   "execution_count": 5,
   "id": "76c6a9e1",
   "metadata": {},
   "outputs": [
    {
     "ename": "NameError",
     "evalue": "name 'keras' is not defined",
     "output_type": "error",
     "traceback": [
      "\u001b[1;31m---------------------------------------------------------------------------\u001b[0m",
      "\u001b[1;31mNameError\u001b[0m                                 Traceback (most recent call last)",
      "Cell \u001b[1;32mIn[5], line 1\u001b[0m\n\u001b[1;32m----> 1\u001b[0m train_dataset, val_dataset \u001b[38;5;241m=\u001b[39m \u001b[43mkeras\u001b[49m\u001b[38;5;241m.\u001b[39mutils\u001b[38;5;241m.\u001b[39mimage_dataset_from_directory(\n\u001b[0;32m      2\u001b[0m     path_to_images, class_name\u001b[38;5;241m=\u001b[39m[\u001b[38;5;124m\"\u001b[39m\u001b[38;5;124mnormal\u001b[39m\u001b[38;5;124m\"\u001b[39m,\u001b[38;5;124m\"\u001b[39m\u001b[38;5;124msick\u001b[39m\u001b[38;5;124m\"\u001b[39m], \n\u001b[0;32m      3\u001b[0m     batch_size \u001b[38;5;241m=\u001b[39m \u001b[38;5;241m32\u001b[39m, \n\u001b[0;32m      4\u001b[0m     image_size \u001b[38;5;241m=\u001b[39m (\u001b[38;5;241m395\u001b[39m,\u001b[38;5;241m488\u001b[39m),\n\u001b[0;32m      5\u001b[0m validation_split\u001b[38;5;241m=\u001b[39m\u001b[38;5;241m0.2\u001b[39m,\n\u001b[0;32m      6\u001b[0m subset\u001b[38;5;241m=\u001b[39m\u001b[38;5;124m\"\u001b[39m\u001b[38;5;124mboth\u001b[39m\u001b[38;5;124m\"\u001b[39m,\n\u001b[0;32m      7\u001b[0m seed\u001b[38;5;241m=\u001b[39m\u001b[38;5;241m200\u001b[39m,\n\u001b[0;32m      8\u001b[0m )\n",
      "\u001b[1;31mNameError\u001b[0m: name 'keras' is not defined"
     ]
    }
   ],
   "source": [
    "train_dataset, val_dataset = keras.utils.image_dataset_from_directory(\n",
    "    path_to_images, class_name=[\"normal\",\"sick\"], \n",
    "    batch_size = 32, \n",
    "    image_size = (395,488),\n",
    "validation_split=0.2,\n",
    "subset=\"both\",\n",
    "seed=200,\n",
    ")"
   ]
  },
  {
   "cell_type": "code",
   "execution_count": null,
   "id": "f5c7f81f",
   "metadata": {},
   "outputs": [],
   "source": [
    "import matplotlib.pyplot as plt\n",
    "accuracy = history.history[\"accuracy\"]\n",
    "val_accuracy = history.history[\"val_accuracy\"]\n",
    "loss = history.history[\"loss\"]\n",
    "val_loss=history.history[\"val_loss\"]\n",
    "\n",
    "epochs = range(1, len(accuracy)+1)\n",
    "plt.plot(epochs,accuracy, \"bo\", label=\"Training Accuracy\")\n",
    "plt.plot(epochs,val_accuracy,\"b\", label =\"Validation Accuracy\")\n",
    "plt.title(\"Training and Validation loss\")\n",
    "plt.legend()\n",
    "plt.figure()\n",
    "plt.plot(epochs,accuracy, \"bo\", label=\"Training loss\")\n",
    "plt.plot(epochs,val_accuracy,\"b\", label =\"Validation loss\")\n",
    "plt.title(\"Training and Validation loss\")\n",
    "plt.legend\n",
    "plt.show()"
   ]
  },
  {
   "cell_type": "code",
   "execution_count": null,
   "id": "eb5ed693",
   "metadata": {},
   "outputs": [],
   "source": [
    "data_augumentation = keras.Sequential(\n",
    "[keras.layers.RandomFlip(\"horizontal\"),\n",
    "keras.layers.RandomRotation(0.1),\n",
    "keras.layers.RandomZoom(0.2)\n",
    "]\n",
    ")"
   ]
  },
  {
   "cell_type": "code",
   "execution_count": null,
   "id": "44d78a98",
   "metadata": {},
   "outputs": [],
   "source": [
    "#Creating shape of the model\n",
    "\n",
    "inputs = keras.Input(shape(395, 488,3))\n",
    "\n",
    "#data augumentation\n",
    "\n",
    "x = data_augmentation(inputs)\n",
    "\n",
    "#rescaling\n",
    "x = keras.layers.Rescaling(1.255)(x)\n",
    "\n",
    "#adding convolution layer\n",
    "\n",
    "x=keras.layers.Conv2D(filters=32,kernel_size=3,activation=\"relu\")(inputs)\n",
    "x=keras.layers.MaxPool2D(pool_size=2)(x)\n",
    "\n",
    "x=keras.layers.Conv2D(filters=64,kernel_size=3,activation=\"relu\")(inputs)\n",
    "x=keras.layers.MaxPool2D(pool_size=2)(x)\n",
    "\n",
    "x=keras.layers.Conv2D(filters=128,kernel_size=3,activation=\"relu\")(inputs)\n",
    "x=keras.layers.MaxPool2D(pool_size=2)(x)\n",
    "\n",
    "x=keras.layers.Conv2D(filters=256,kernel_size=3,activation=\"relu\")(inputs)\n",
    "x=keras.layers.MaxPool2D(pool_size=2)(x)\n",
    "\n",
    "x=keras.layers.Conv2D(filters=256,kernel_size=3,activation=\"relu\")(inputs)\n",
    "x=keras.layers.MaxPool2D(pool_size=2)(x)\n",
    "\n",
    "x=keras.layers.Conv2D(filters=256,kernel_size=3,activation=\"relu\")(inputs)\n",
    "x=keras.layers.MaxPool2D(pool_size=2)(x)\n",
    "\n",
    "#Model flattening\n",
    "\n",
    "x=keras.layers. Flatten()(x)\n",
    "\n",
    "x=keras.layers.Dense(activation=\"relu\")(x)\n",
    "\n",
    "#Dropout\n",
    "x= keras.layers.dropout(0.5)(x)\n",
    "\n",
    "#create model output\n",
    "outputs=keras.layers.Dense(filters=1, kernel_size=3,activation=\"sigmond\")(x)\n"
   ]
  },
  {
   "cell_type": "code",
   "execution_count": null,
   "id": "9ee11d3e",
   "metadata": {},
   "outputs": [],
   "source": [
    "# Keras builds the Neural Network\n",
    "model.keras.Model(inputs=inputs, outputs=outputs)\n"
   ]
  },
  {
   "cell_type": "code",
   "execution_count": null,
   "id": "c2870dbd",
   "metadata": {},
   "outputs": [],
   "source": [
    "#Compile the model\n",
    "model.compile(optimizer=\"adam\",\n",
    "              loss=\"binary_crossentropy\",\n",
    "              metrics=[\"accuracy\"])"
   ]
  },
  {
   "cell_type": "code",
   "execution_count": null,
   "id": "a85775e4",
   "metadata": {},
   "outputs": [],
   "source": [
    "callbacks = [\n",
    "    keras.callbacks.ModelCheckpoint(\n",
    "    filepath=\"models/chest_opacities_detection_model_V1.keras\",\n",
    "    )\n",
    "]"
   ]
  },
  {
   "cell_type": "code",
   "execution_count": null,
   "id": "1d73cd1a",
   "metadata": {},
   "outputs": [],
   "source": [
    "#trains the model to fit the data/features\n",
    "#Number of iterations - epochs\n",
    "history = model.fit(train_dataset, \n",
    "          batch_size=32,\n",
    "          epochs=5, \n",
    "          verbose=1,\n",
    "         validation_data=val_dataset\n",
    "         )"
   ]
  },
  {
   "cell_type": "code",
   "execution_count": null,
   "id": "6175e07b",
   "metadata": {},
   "outputs": [],
   "source": [
    "#running the dataset\n",
    "X_train, Y_train = dataset"
   ]
  },
  {
   "cell_type": "code",
   "execution_count": null,
   "id": "364f2585",
   "metadata": {},
   "outputs": [],
   "source": [
    "#Making predictions"
   ]
  }
 ],
 "metadata": {
  "kernelspec": {
   "display_name": "Python 3 (ipykernel)",
   "language": "python",
   "name": "python3"
  },
  "language_info": {
   "codemirror_mode": {
    "name": "ipython",
    "version": 3
   },
   "file_extension": ".py",
   "mimetype": "text/x-python",
   "name": "python",
   "nbconvert_exporter": "python",
   "pygments_lexer": "ipython3",
   "version": "3.9.13"
  }
 },
 "nbformat": 4,
 "nbformat_minor": 5
}
